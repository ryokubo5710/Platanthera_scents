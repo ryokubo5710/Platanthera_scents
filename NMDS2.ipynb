{
 "cells": [
  {
   "cell_type": "code",
   "execution_count": null,
   "metadata": {
    "collapsed": false
   },
   "outputs": [],
   "source": [
    "# Author: Nelle Varoquaux <nelle.varoquaux@gmail.com>\n",
    "# License: BSD\n",
    "\n",
    "print(__doc__)\n",
    "import numpy as np\n",
    "\n",
    "from matplotlib import pyplot as plt\n",
    "from matplotlib.collections import LineCollection\n",
    "\n",
    "from sklearn import manifold\n",
    "from sklearn.metrics import euclidean_distances\n",
    "from sklearn.decomposition import PCA\n",
    "\n",
    "n_samples = 20\n",
    "seed = np.random.RandomState(seed=3)\n",
    "X_true = seed.randint(0, 20, 2 * n_samples).astype(np.float)\n",
    "X_true = X_true.reshape((n_samples, 2))\n",
    "# Center the data\n",
    "X_true -= X_true.mean()\n",
    "\n",
    "similarities = euclidean_distances(X_true)\n",
    "\n",
    "# Add noise to the similarities\n",
    "noise = np.random.rand(n_samples, n_samples)\n",
    "noise = noise + noise.T\n",
    "noise[np.arange(noise.shape[0]), np.arange(noise.shape[0])] = 0\n",
    "similarities += noise\n",
    "\n",
    "mds = manifold.MDS(n_components=2, max_iter=3000, eps=1e-9, random_state=seed,\n",
    "                   dissimilarity=\"precomputed\", n_jobs=1)\n",
    "pos = mds.fit(similarities).embedding_\n",
    "\n",
    "nmds = manifold.MDS(n_components=2, metric=False, max_iter=3000, eps=1e-12,\n",
    "                    dissimilarity=\"precomputed\", random_state=seed, n_jobs=1,\n",
    "                    n_init=1)\n",
    "npos = nmds.fit_transform(similarities, init=pos)\n",
    "\n",
    "# Rescale the data\n",
    "pos *= np.sqrt((X_true ** 2).sum()) / np.sqrt((pos ** 2).sum())\n",
    "npos *= np.sqrt((X_true ** 2).sum()) / np.sqrt((npos ** 2).sum())\n",
    "\n",
    "# Rotate the data\n",
    "clf = PCA(n_components=2)\n",
    "X_true = clf.fit_transform(X_true)\n",
    "\n",
    "pos = clf.fit_transform(pos)\n",
    "\n",
    "npos = clf.fit_transform(npos)\n",
    "\n",
    "fig = plt.figure(1)\n",
    "ax = plt.axes([0., 0., 1., 1.])\n",
    "\n",
    "s = 100\n",
    "plt.scatter(X_true[:, 0], X_true[:, 1], color='navy', s=s, lw=0,\n",
    "            label='True Position')\n",
    "plt.scatter(pos[:, 0], pos[:, 1], color='turquoise', s=s, lw=0, label='MDS')\n",
    "plt.scatter(npos[:, 0], npos[:, 1], color='darkorange', s=s, lw=0, label='NMDS')\n",
    "plt.legend(scatterpoints=1, loc='best', shadow=False)\n",
    "\n",
    "similarities = similarities.max() / similarities * 100\n",
    "similarities[np.isinf(similarities)] = 0\n",
    "\n",
    "# Plot the edges\n",
    "start_idx, end_idx = np.where(pos)\n",
    "# a sequence of (*line0*, *line1*, *line2*), where::\n",
    "#            linen = (x0, y0), (x1, y1), ... (xm, ym)\n",
    "segments = [[X_true[i, :], X_true[j, :]]\n",
    "            for i in range(len(pos)) for j in range(len(pos))]\n",
    "values = np.abs(similarities)\n",
    "lc = LineCollection(segments,\n",
    "                    zorder=0, cmap=plt.cm.Blues,\n",
    "                    norm=plt.Normalize(0, values.max()))\n",
    "lc.set_array(similarities.flatten())\n",
    "lc.set_linewidths(0.5 * np.ones(len(segments)))\n",
    "ax.add_collection(lc)\n",
    "\n",
    "plt.show()\n",
    "nmds.stress_"
   ]
  },
  {
   "cell_type": "code",
   "execution_count": 6,
   "metadata": {
    "collapsed": false
   },
   "outputs": [],
   "source": [
    "import numpy as np\n",
    "import pandas as pd\n",
    "import matplotlib.pyplot as plt\n",
    "%matplotlib inline\n",
    "\n",
    "data= pd.read_excel('OutputScriptMarie_KovatsMatchOnly70.xlsx.xlsx', sheetname ='to use for NDMS')\n",
    "\n",
    "#SUBSET DATA BY SPECIES FOR PLOT MEAN ABUNDANCE CHEMICAL\n",
    "data_Obt = data.iloc[0:39, :]\n",
    "data_Dil = data.iloc[53:70, :]\n",
    "data_Stri = data.iloc[88:105, :]\n",
    "data_Cil = data.iloc[105:111, :] \n",
    "data_Hur = data.iloc[78:88, :]\n"
   ]
  },
  {
   "cell_type": "code",
   "execution_count": 7,
   "metadata": {
    "collapsed": true
   },
   "outputs": [],
   "source": [
    "#RANDOM SUBSET OBT, DIL and STRI SO N~10 per species\n",
    "#subset_Obt = np.random.choice(range(0, data_Obt.shape[0]), 10)\n",
    "#subset_Dil = np.random.choice(range(0, data_Dil.shape[0]), 10)\n",
    "#subset_Stri = np.random.choice(range(0, data_Stri.shape[0]), 10)\n",
    "\n",
    "#data_Obt = data_Obt.iloc[subset_Obt, :]\n",
    "#data_Stri = data_Stri.iloc[subset_Stri, :]\n",
    "#data_Dil = data_Dil.iloc[subset_Dil, :]\n",
    "\n",
    "dataAll = np.vstack((data_Obt, data_Dil, data_Stri, data_Cil, data_Hur))"
   ]
  },
  {
   "cell_type": "code",
   "execution_count": 8,
   "metadata": {
    "collapsed": false
   },
   "outputs": [
    {
     "name": "stdout",
     "output_type": "stream",
     "text": [
      "The sample size of each group is (39, 56) (17, 56) (17, 56) (6, 56) (10, 56)\n"
     ]
    }
   ],
   "source": [
    "print ('The sample size of each group is', data_Obt.shape,  data_Dil.shape,  data_Stri.shape,  data_Cil.shape,  data_Hur.shape)"
   ]
  },
  {
   "cell_type": "code",
   "execution_count": 9,
   "metadata": {
    "collapsed": false
   },
   "outputs": [
    {
     "data": {
      "text/plain": [
       "(89, 56)"
      ]
     },
     "execution_count": 9,
     "metadata": {},
     "output_type": "execute_result"
    }
   ],
   "source": [
    "from matplotlib.collections import LineCollection\n",
    "\n",
    "from sklearn import manifold\n",
    "from sklearn.metrics import euclidean_distances\n",
    "from sklearn.decomposition import PCA\n",
    "dataAll.shape"
   ]
  },
  {
   "cell_type": "code",
   "execution_count": 11,
   "metadata": {
    "collapsed": false
   },
   "outputs": [
    {
     "name": "stderr",
     "output_type": "stream",
     "text": [
      "/Users/ryokubo/anaconda/lib/python3.5/site-packages/sklearn/manifold/mds.py:238: UserWarning: Explicit initial positions passed: performing only one init of the MDS instead of 4\n",
      "  % n_init)\n"
     ]
    }
   ],
   "source": [
    "similarities = euclidean_distances(dataAll[:, 2:])\n",
    "\n",
    "\n",
    "stress= np.zeros(5)\n",
    "for i in range(5):\n",
    "    mds = manifold.MDS(n_components=i+1, max_iter=3000, eps=1e-9, \n",
    "                   dissimilarity=\"precomputed\", n_jobs=1)\n",
    "    pos = mds.fit(similarities).embedding_\n",
    "    nmds = manifold.MDS(n_components=i+1, metric=False, max_iter=3000, eps=1e-12,\n",
    "                    dissimilarity=\"precomputed\", n_jobs=1)\n",
    "    npos = nmds.fit_transform(similarities, init=pos)\n",
    "    stress[i] = nmds.stress_\n",
    "    \n",
    "#stress[4] = nmds.stress_"
   ]
  },
  {
   "cell_type": "code",
   "execution_count": 12,
   "metadata": {
    "collapsed": false
   },
   "outputs": [
    {
     "data": {
      "text/plain": [
       "array([  1.18636780e+01,   7.01560289e-04,   6.07346378e-04,\n",
       "         3.91445653e-04,   5.44765502e-05])"
      ]
     },
     "execution_count": 12,
     "metadata": {},
     "output_type": "execute_result"
    },
    {
     "data": {
      "image/png": "[encoded data removed]",
      "text/plain": [
       "<matplotlib.figure.Figure at 0x1184f7d30>"
      ]
     },
     "metadata": {},
     "output_type": "display_data"
    }
   ],
   "source": [
    "stress\n",
    "plt.plot(range(5), stress, 'o')\n",
    "plt.ylim(-0.5, 5)\n",
    "plt.xlim(-0.5, 4.5)\n",
    "#plt.xaxis([1, 2, 3, 4, 5])\n",
    "stress"
   ]
  },
  {
   "cell_type": "code",
   "execution_count": 13,
   "metadata": {
    "collapsed": false
   },
   "outputs": [
    {
     "name": "stderr",
     "output_type": "stream",
     "text": [
      "/Users/ryokubo/anaconda/lib/python3.5/site-packages/sklearn/manifold/mds.py:238: UserWarning: Explicit initial positions passed: performing only one init of the MDS instead of 4\n",
      "  % n_init)\n"
     ]
    }
   ],
   "source": [
    "similarities = euclidean_distances(dataAll[:, 2:])\n",
    "\n",
    "\n",
    "mds = manifold.MDS(n_components=2, max_iter=3000, eps=1e-9, \n",
    "                   dissimilarity=\"precomputed\", n_jobs=1)\n",
    "pos = mds.fit(similarities).embedding_\n",
    "nmds = manifold.MDS(n_components=2, metric=False, max_iter=3000, eps=1e-12,\n",
    "                    dissimilarity=\"precomputed\", n_jobs=1)\n",
    "npos = nmds.fit_transform(similarities, init=pos)\n",
    "   \n",
    "#stress[4] = nmds.stress_"
   ]
  },
  {
   "cell_type": "code",
   "execution_count": 82,
   "metadata": {
    "collapsed": false
   },
   "outputs": [
    {
     "data": {
      "image/png": "[encoded data removed]",
      "text/plain": [
       "<matplotlib.figure.Figure at 0x10faa198>"
      ]
     },
     "metadata": {},
     "output_type": "display_data"
    }
   ],
   "source": [
    "# Rescale the data\n",
    "#pos *= np.sqrt((X_true ** 2).sum()) / np.sqrt((pos ** 2).sum())\n",
    "#npos *= np.sqrt((X_true ** 2).sum()) / np.sqrt((npos ** 2).sum())\n",
    "\n",
    "# Rotate the data\n",
    "clf = PCA()\n",
    "X_true = clf.fit_transform(dataAll[:, 2:])\n",
    "\n",
    "pos = clf.fit_transform(pos)\n",
    "\n",
    "npos = clf.fit_transform(npos)\n",
    "\n",
    "fig = plt.figure(1)\n",
    "ax = plt.axes([0., 0., 1., 1.])\n",
    "\n",
    "s = 10\n",
    "Cil = np.repeat(3, data_Cil.shape[0])\n",
    "Dil = np.repeat(1, data_Dil.shape[0])\n",
    "Str = np.repeat(2, data_Stri.shape[0])\n",
    "Obt = np.repeat(0, data_Obt.shape[0])\n",
    "Hur = np.repeat(4, data_Hur.shape[0])\n",
    "\n",
    "Species = np.concatenate((Obt, Dil, Str, Cil, Hur))\n",
    "\n",
    "#plt.scatter(X_true[:, 0], X_true[:, 1], color='navy', s=s, lw=0,\n",
    "            #label='True Position')\n",
    "#plt.scatter(pos[:, 0], pos[:, 1], color='turquoise', s=s, lw=0, label='MDS')\n",
    "#plt.scatter(npos[:, 0], npos[:, 1], color='darkorange', s=s, lw=0, label='NMDS')\n",
    "#plt.legend(scatterpoints=1, loc='best', shadow=False)\n",
    "col = ['blue',  'orange','green', 'gray', 'purple']\n",
    "#i=0\n",
    "#for types in set(Species):\n",
    "   # plt.scatter(npos[Species==types, 0],\n",
    "  #          npos[Species==types, 1],s=s, lw= 0, c=col[i])\n",
    " #   i+=1\n",
    "#\n",
    "#plt.legend(set(Species), loc='best', shadow='TRUE')\n",
    "\n",
    "\n",
    "i=0\n",
    "for types in set(Species):\n",
    "    plt.plot(npos[Species==types, 0],\n",
    "            npos[Species==types, 1], 'o', c=col[i])\n",
    "    plt.xlim(-0.13, -0.11)\n",
    "    plt.ylim(-0.02,0)\n",
    "    i+=1\n",
    "\n",
    "#plt.legend(set(Species), loc='best', shadow='TRUE')\n",
    "#npos"
   ]
  }
 ],
 "metadata": {
  "anaconda-cloud": {},
  "kernelspec": {
   "display_name": "Python [conda root]",
   "language": "python",
   "name": "conda-root-py"
  },
  "language_info": {
   "codemirror_mode": {
    "name": "ipython",
    "version": 3
   },
   "file_extension": ".py",
   "mimetype": "text/x-python",
   "name": "python",
   "nbconvert_exporter": "python",
   "pygments_lexer": "ipython3",
   "version": "3.5.2"
  }
 },
 "nbformat": 4,
 "nbformat_minor": 1
}
