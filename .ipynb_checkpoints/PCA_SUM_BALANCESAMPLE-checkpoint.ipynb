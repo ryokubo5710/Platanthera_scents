{
 "cells": [
  {
   "cell_type": "code",
   "execution_count": 1,
   "metadata": {
    "collapsed": true
   },
   "outputs": [],
   "source": [
    "import numpy as np\n",
    "import pandas as pd\n",
    "import matplotlib.pyplot as plt\n",
    "%matplotlib inline"
   ]
  },
  {
   "cell_type": "code",
   "execution_count": 21,
   "metadata": {
    "collapsed": true
   },
   "outputs": [],
   "source": [
    "data= pd.read_excel('OutputScriptMarie_KovatsMatchOnly70.xlsx.xlsx', sheetname ='to use for NDMS')"
   ]
  },
  {
   "cell_type": "code",
   "execution_count": 3,
   "metadata": {
    "collapsed": true
   },
   "outputs": [],
   "source": [
    "#NORMALIZATION DATA BY SUM\n",
    "for i in range(0, data.shape[0]):\n",
    "    data.iloc[i, 2:] = data.iloc[i,2:] / sum(data.iloc[i,2:])"
   ]
  },
  {
   "cell_type": "code",
   "execution_count": 23,
   "metadata": {
    "collapsed": true
   },
   "outputs": [],
   "source": [
    "#SUBSET DATA BY SPECIES FOR PLOT MEAN ABUNDANCE CHEMICAL\n",
    "data_Obt = data.iloc[0:39, :]\n",
    "data_Dil = data.iloc[53:70, :]\n",
    "data_Stri = data.iloc[88:105, :]\n",
    "data_Cil = data.iloc[105:111, :] \n",
    "data_Hur = data.iloc[78:88, :]"
   ]
  },
  {
   "cell_type": "code",
   "execution_count": 24,
   "metadata": {
    "collapsed": false
   },
   "outputs": [
    {
     "name": "stdout",
     "output_type": "stream",
     "text": [
      "The sample size of each group is (39, 56) (17, 56) (17, 56) (6, 56) (10, 56)\n"
     ]
    }
   ],
   "source": [
    "print 'The sample size of each group is', data_Obt.shape,  data_Dil.shape,  data_Stri.shape,  data_Cil.shape,  data_Hur.shape"
   ]
  },
  {
   "cell_type": "code",
   "execution_count": 6,
   "metadata": {
    "collapsed": false
   },
   "outputs": [],
   "source": [
    "#RANDOM SUBSET OBT, DIL and STRI SO N~10 per species\n",
    "subset_Obt = np.random.choice(range(0, data_Obt.shape[0]), 10)\n",
    "subset_Dil = np.random.choice(range(0, data_Dil.shape[0]), 10)\n",
    "subset_Stri = np.random.choice(range(0, data_Stri.shape[0]), 10)\n",
    "\n",
    "data_Obt = data_Obt.iloc[subset_Obt, :]\n",
    "data_Stri = data_Stri.iloc[subset_Stri, :]\n",
    "data_Dil = data_Dil.iloc[subset_Dil, :]"
   ]
  },
  {
   "cell_type": "code",
   "execution_count": 7,
   "metadata": {
    "collapsed": false
   },
   "outputs": [
    {
     "name": "stdout",
     "output_type": "stream",
     "text": [
      "46 components come out of this decomposition\n"
     ]
    }
   ],
   "source": [
    "Cil = np.repeat(1, data_Cil.shape[0])\n",
    "Dil = np.repeat(2, data_Dil.shape[0])\n",
    "Str = np.repeat(3, data_Stri.shape[0])\n",
    "Obt = np.repeat(0, data_Obt.shape[0])\n",
    "Hur = np.repeat(4, data_Hur.shape[0])\n",
    "Species = np.concatenate((Obt, Dil, Str, Cil, Hur))\n",
    "\n",
    "dataAll = np.vstack((data_Obt, data_Dil, data_Stri, data_Cil, data_Hur))\n",
    "\n",
    "from sklearn.decomposition import PCA\n",
    "pcaExp = PCA()\n",
    "pcaExp.fit(dataAll[:, 2:])\n",
    "print pcaExp.components_.shape[0],'components come out of this decomposition'#\n"
   ]
  },
  {
   "cell_type": "code",
   "execution_count": 8,
   "metadata": {
    "collapsed": false
   },
   "outputs": [
    {
     "name": "stdout",
     "output_type": "stream",
     "text": [
      "9 components are required to explain 90% of the variance in the data\n"
     ]
    },
    {
     "data": {
      "image/png": "[encoded data removed]",
      "text/plain": [
       "<matplotlib.figure.Figure at 0xacd3da0>"
      ]
     },
     "metadata": {},
     "output_type": "display_data"
    }
   ],
   "source": [
    "plt.plot(np.cumsum(pcaExp.explained_variance_ratio_))\n",
    "plt.ylabel('Cumulative variance explained')\n",
    "plt.xlabel('Principal Components')\n",
    "plt.xlim(1,pcaExp.components_.shape[0])\n",
    "\n",
    "\n",
    "CumSumExp = np.cumsum(pcaExp.explained_variance_ratio_)\n",
    "for i in range(0, len(CumSumExp)):\n",
    "    if CumSumExp[i] >= 0.9:\n",
    "        print i+1, 'components are required to explain 90% of the variance in the data'\n",
    "        break"
   ]
  },
  {
   "cell_type": "code",
   "execution_count": 9,
   "metadata": {
    "collapsed": true
   },
   "outputs": [],
   "source": [
    "def test_train_id(N, test_frac):\n",
    "    Samples = np.arange(0,N)\n",
    "    Fraction = test_frac*N\n",
    "    test = np.random.choice(range(0,N), round(Fraction))\n",
    "    train = np.delete(Samples, test)\n",
    "    return test, train   "
   ]
  },
  {
   "cell_type": "code",
   "execution_count": 15,
   "metadata": {
    "collapsed": true
   },
   "outputs": [],
   "source": [
    "def cross_val_class_accuracy(model, X, y, r, test_frac, reps):\n",
    "    Accuracy = np.zeros(reps)\n",
    "    for i in range(reps):\n",
    "        test, train = test_train_id(46, test_frac)\n",
    "        DataTest = X[test, :]\n",
    "        DataTrain = X[train, :]\n",
    "        pcaExp_train = PCA(r)\n",
    "        pcaExp_train.fit(DataTrain)\n",
    "        Train_red = pcaExp_train.transform(DataTrain)\n",
    "        Test_red = pcaExp_train.transform(DataTest)\n",
    "        mymodel = model\n",
    "        model.fit(Train_red, y[train])\n",
    "        Predict = model.predict(Test_red)\n",
    "        Accuracy[i] = np.mean(Predict == y[test])\n",
    "    cv_acc = np.mean(Accuracy)\n",
    "    sd_acc = np.std(Accuracy)\n",
    "    return cv_acc, sd_acc"
   ]
  },
  {
   "cell_type": "code",
   "execution_count": 16,
   "metadata": {
    "collapsed": false
   },
   "outputs": [
    {
     "name": "stderr",
     "output_type": "stream",
     "text": [
      "C:\\Anaconda2\\lib\\site-packages\\ipykernel\\__main__.py:4: VisibleDeprecationWarning: using a non-integer number instead of an integer will result in an error in the future\n"
     ]
    }
   ],
   "source": [
    "from sklearn.neighbors import KNeighborsClassifier\n",
    "from sklearn.discriminant_analysis import LinearDiscriminantAnalysis\n",
    "from sklearn.svm import SVC\n",
    "from sklearn import tree\n",
    "\n",
    "KNN2 = cross_val_class_accuracy(KNeighborsClassifier(5), dataAll[:, 2:], Species, 10, 0.2, 200)\n",
    "LDA5 = cross_val_class_accuracy(LinearDiscriminantAnalysis(), dataAll[:, 2:], Species, 10, 0.2, 200)\n",
    "LDA20 = cross_val_class_accuracy(LinearDiscriminantAnalysis(), dataAll[:, 2:], Species, 20, 0.2, 200)\n",
    "SVM20 = cross_val_class_accuracy(SVC(kernel='linear'), dataAll[:, 2:], Species, 10, 0.2, 200)\n",
    "DT20 = cross_val_class_accuracy(tree.DecisionTreeClassifier(), dataAll[:, 2:], Species, 10, 0.2, 200)    "
   ]
  },
  {
   "cell_type": "code",
   "execution_count": 19,
   "metadata": {
    "collapsed": false
   },
   "outputs": [
    {
     "data": {
      "text/plain": [
       "<matplotlib.text.Text at 0x10abae10>"
      ]
     },
     "execution_count": 19,
     "metadata": {},
     "output_type": "execute_result"
    },
    {
     "data": {
      "image/png": "[encoded data removed]",
      "text/plain": [
       "<matplotlib.figure.Figure at 0x10537dd8>"
      ]
     },
     "metadata": {},
     "output_type": "display_data"
    }
   ],
   "source": [
    "import seaborn as sns \n",
    "sns.barplot(range(5), [KNN2[0], LDA5[0], LDA20[0], SVM20[0], DT20[0]])\n",
    "plt.ylim(0,1)\n",
    "plt.ylabel('Accuracy')"
   ]
  }
 ],
 "metadata": {
  "anaconda-cloud": {},
  "kernelspec": {
   "display_name": "Python [conda root]",
   "language": "python",
   "name": "conda-root-py"
  },
  "language_info": {
   "codemirror_mode": {
    "name": "ipython",
    "version": 2
   },
   "file_extension": ".py",
   "mimetype": "text/x-python",
   "name": "python",
   "nbconvert_exporter": "python",
   "pygments_lexer": "ipython2",
   "version": "2.7.12"
  }
 },
 "nbformat": 4,
 "nbformat_minor": 1
}
