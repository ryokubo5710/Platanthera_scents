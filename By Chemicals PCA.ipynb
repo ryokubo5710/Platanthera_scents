{
 "cells": [
  {
   "cell_type": "code",
   "execution_count": 1,
   "metadata": {
    "collapsed": true
   },
   "outputs": [],
   "source": [
    "import numpy as np\n",
    "import pandas as pd\n",
    "import matplotlib.pyplot as plt\n",
    "%matplotlib inline"
   ]
  },
  {
   "cell_type": "code",
   "execution_count": 4,
   "metadata": {
    "collapsed": true
   },
   "outputs": [],
   "source": [
    "data= pd.read_excel('OutputScriptMarie_KovatsMatchOnly70.xlsx.xlsx', sheetname ='to use for NDMS')"
   ]
  },
  {
   "cell_type": "code",
   "execution_count": 5,
   "metadata": {
    "collapsed": false
   },
   "outputs": [],
   "source": [
    "#NORMALIZATION DATA BY SUM\n",
    "for i in range(0, data.shape[0]):\n",
    "    data.iloc[i, 2:] = data.iloc[i,2:] / sum(data.iloc[i,2:])\n",
    "\n",
    "chemicals = [\"Â«alphaÂ»-Pinene\", \"Camphene\", \"Benzaldehyde\", \"Â«betaÂ»-Pinene\", \"Â«betaÂ»-Myrcene\", \"Octanal\", \"1-hexanol\",\n",
    "\"Limonene\", \"Eucalyptol\", \"1-octanol\", \"Nonanal\", \"(-)-Myrtenol\", \"Lilac aldehyde B\", \"Lilac aldehyde C\",\"Lilac aldehyde D\",\n",
    "\"Lilac alcohol B\"]\n",
    "\n",
    "data2 =  np.zeros(shape = (data.shape[0], len(chemicals)))\n",
    "\n",
    "for i in range(len(chemicals)):\n",
    "    for j in range(data.shape[1]):\n",
    "        if list(data)[j] == chemicals[i]:\n",
    "            data2[:,i] =  data.iloc[:,j]\n",
    "\n",
    "#for i in range(len(chemicals)):\n",
    "    #= data.iloc[data.iloc[1,:].str.contains(chemicals[i])]\n",
    "data2 = pd.DataFrame(data2)"
   ]
  },
  {
   "cell_type": "code",
   "execution_count": 6,
   "metadata": {
    "collapsed": true
   },
   "outputs": [],
   "source": [
    "#SUBSET DATA BY SPECIES FOR PLOT MEAN ABUNDANCE CHEMICAL\n",
    "data_Obt = data2.iloc[0:39, :]\n",
    "data_Dil = data2.iloc[53:70, :]\n",
    "data_Stri = data2.iloc[88:105, :]\n",
    "data_Cil = data2.iloc[105:111, :] \n",
    "data_Hur = data2.iloc[78:88, :]"
   ]
  },
  {
   "cell_type": "code",
   "execution_count": 7,
   "metadata": {
    "collapsed": false
   },
   "outputs": [
    {
     "name": "stdout",
     "output_type": "stream",
     "text": [
      "The sample size of each group is (39, 16) (17, 16) (17, 16) (6, 16) (10, 16)\n"
     ]
    }
   ],
   "source": [
    "print ('The sample size of each group is', data_Obt.shape,  data_Dil.shape,  data_Stri.shape,  data_Cil.shape,  data_Hur.shape)"
   ]
  },
  {
   "cell_type": "code",
   "execution_count": 8,
   "metadata": {
    "collapsed": true
   },
   "outputs": [],
   "source": [
    "#RANDOM SUBSET OBT, DIL and STRI SO N~10 per species\n",
    "subset_Obt = np.random.choice(range(0, data_Obt.shape[0]), 10)\n",
    "subset_Dil = np.random.choice(range(0, data_Dil.shape[0]), 10)\n",
    "subset_Stri = np.random.choice(range(0, data_Stri.shape[0]), 10)\n",
    "\n",
    "data_Obt = data_Obt.iloc[subset_Obt, :]\n",
    "data_Stri = data_Stri.iloc[subset_Stri, :]\n",
    "data_Dil = data_Dil.iloc[subset_Dil, :]"
   ]
  },
  {
   "cell_type": "code",
   "execution_count": null,
   "metadata": {
    "collapsed": true
   },
   "outputs": [],
   "source": []
  }
 ],
 "metadata": {
  "anaconda-cloud": {},
  "kernelspec": {
   "display_name": "Python [default]",
   "language": "python",
   "name": "python3"
  },
  "language_info": {
   "codemirror_mode": {
    "name": "ipython",
    "version": 3
   },
   "file_extension": ".py",
   "mimetype": "text/x-python",
   "name": "python",
   "nbconvert_exporter": "python",
   "pygments_lexer": "ipython3",
   "version": "3.5.2"
  }
 },
 "nbformat": 4,
 "nbformat_minor": 1
}
