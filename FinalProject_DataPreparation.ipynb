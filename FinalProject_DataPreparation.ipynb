{
 "cells": [
  {
   "cell_type": "code",
   "execution_count": 1,
   "metadata": {
    "collapsed": false
   },
   "outputs": [],
   "source": [
    "import numpy as np\n",
    "import pandas as pd\n",
    "import matplotlib.pyplot as plt\n",
    "%matplotlib inline"
   ]
  },
  {
   "cell_type": "code",
   "execution_count": 2,
   "metadata": {
    "collapsed": false
   },
   "outputs": [],
   "source": [
    "data= pd.read_excel('OutputScriptMarie_KovatsMatchOnly70.xlsx.xlsx', sheetname ='to use for NDMS')"
   ]
  },
  {
   "cell_type": "markdown",
   "metadata": {
    "collapsed": false
   },
   "source": [
    "data_Obt = dataAll.filter(like='obt', axis=1)\n",
    "data_Dil = dataAll.filter(like='dil', axis=1)\n",
    "#data_S = data.filter(like='S', axis=1)\n",
    "data_Stri = dataAll.filter(like='stri'or'S', axis=1)\n",
    "data_Pink = dataAll.filter(like='ink', axis=1)"
   ]
  },
  {
   "cell_type": "code",
   "execution_count": 3,
   "metadata": {
    "collapsed": false
   },
   "outputs": [],
   "source": [
    "data_Obt = data[data['Species'].str.contains('obt')] \n",
    "data_Dil = data[data['Species'].str.contains('dil')] \n",
    "data_Stri = data[data['Species'].str.contains('stri' or 'Stri')] \n",
    "data_Cil = data[data['Species'].str.contains('Cil')] \n",
    "data_Hur = data[data['Species'].str.contains('hur')]"
   ]
  },
  {
   "cell_type": "code",
   "execution_count": 4,
   "metadata": {
    "collapsed": false
   },
   "outputs": [
    {
     "name": "stdout",
     "output_type": "stream",
     "text": [
      "The sample size of each group is (18, 56) (17, 56) (13, 56) (6, 56) (8, 56)\n"
     ]
    }
   ],
   "source": [
    "value = data_Obt.values\n",
    "value.shape\n",
    "print 'The sample size of each group is', data_Obt.shape,  data_Dil.shape,  data_Stri.shape,  data_Cil.shape,  data_Hur.shape"
   ]
  },
  {
   "cell_type": "code",
   "execution_count": 105,
   "metadata": {
    "collapsed": false
   },
   "outputs": [
    {
     "data": {
      "text/html": [
       "<div>\n",
       "<table border=\"1\" class=\"dataframe\">\n",
       "  <thead>\n",
       "    <tr style=\"text-align: right;\">\n",
       "      <th></th>\n",
       "      <th>Names</th>\n",
       "      <th>Species</th>\n",
       "      <th>(-)-Myrtenol</th>\n",
       "      <th>(+)-2-Bornanone</th>\n",
       "      <th>1-Octanol</th>\n",
       "      <th>1-Pentadecene</th>\n",
       "      <th>2-Hexanone</th>\n",
       "      <th>3-Carene</th>\n",
       "      <th>4-ethylbenzaldehyde</th>\n",
       "      <th>5-Tetradecene, (E)-</th>\n",
       "      <th>...</th>\n",
       "      <th>Linalool</th>\n",
       "      <th>Methyl nicotinate</th>\n",
       "      <th>methyl salicylate</th>\n",
       "      <th>Methyleugenol</th>\n",
       "      <th>Nonanal</th>\n",
       "      <th>o-Cymene</th>\n",
       "      <th>Octacosane</th>\n",
       "      <th>Octanal</th>\n",
       "      <th>Phenylethyl Alcohol</th>\n",
       "      <th>Verbenol</th>\n",
       "    </tr>\n",
       "  </thead>\n",
       "  <tbody>\n",
       "    <tr>\n",
       "      <th>105</th>\n",
       "      <td>NaN</td>\n",
       "      <td>160725_Ciliaris4_processed</td>\n",
       "      <td>0</td>\n",
       "      <td>0.0</td>\n",
       "      <td>0.0</td>\n",
       "      <td>0.0</td>\n",
       "      <td>0.0</td>\n",
       "      <td>0.0</td>\n",
       "      <td>0.0</td>\n",
       "      <td>0.0</td>\n",
       "      <td>...</td>\n",
       "      <td>0.0</td>\n",
       "      <td>0</td>\n",
       "      <td>0.0</td>\n",
       "      <td>0.0</td>\n",
       "      <td>831022.0</td>\n",
       "      <td>0.0</td>\n",
       "      <td>0.0</td>\n",
       "      <td>188018.0</td>\n",
       "      <td>0.0</td>\n",
       "      <td>0</td>\n",
       "    </tr>\n",
       "    <tr>\n",
       "      <th>106</th>\n",
       "      <td>NaN</td>\n",
       "      <td>160729_Ciliaris3_processed</td>\n",
       "      <td>0</td>\n",
       "      <td>0.0</td>\n",
       "      <td>0.0</td>\n",
       "      <td>0.0</td>\n",
       "      <td>0.0</td>\n",
       "      <td>435209.0</td>\n",
       "      <td>0.0</td>\n",
       "      <td>0.0</td>\n",
       "      <td>...</td>\n",
       "      <td>0.0</td>\n",
       "      <td>0</td>\n",
       "      <td>0.0</td>\n",
       "      <td>0.0</td>\n",
       "      <td>3805222.0</td>\n",
       "      <td>481521.0</td>\n",
       "      <td>0.0</td>\n",
       "      <td>340742.0</td>\n",
       "      <td>0.0</td>\n",
       "      <td>0</td>\n",
       "    </tr>\n",
       "    <tr>\n",
       "      <th>107</th>\n",
       "      <td>NaN</td>\n",
       "      <td>160725_Ciliaris2_processed</td>\n",
       "      <td>0</td>\n",
       "      <td>0.0</td>\n",
       "      <td>0.0</td>\n",
       "      <td>0.0</td>\n",
       "      <td>0.0</td>\n",
       "      <td>0.0</td>\n",
       "      <td>0.0</td>\n",
       "      <td>0.0</td>\n",
       "      <td>...</td>\n",
       "      <td>0.0</td>\n",
       "      <td>0</td>\n",
       "      <td>0.0</td>\n",
       "      <td>0.0</td>\n",
       "      <td>2211582.0</td>\n",
       "      <td>0.0</td>\n",
       "      <td>0.0</td>\n",
       "      <td>382837.0</td>\n",
       "      <td>0.0</td>\n",
       "      <td>0</td>\n",
       "    </tr>\n",
       "    <tr>\n",
       "      <th>108</th>\n",
       "      <td>NaN</td>\n",
       "      <td>160725_Ciliaris3_processed</td>\n",
       "      <td>0</td>\n",
       "      <td>0.0</td>\n",
       "      <td>0.0</td>\n",
       "      <td>0.0</td>\n",
       "      <td>0.0</td>\n",
       "      <td>0.0</td>\n",
       "      <td>0.0</td>\n",
       "      <td>0.0</td>\n",
       "      <td>...</td>\n",
       "      <td>0.0</td>\n",
       "      <td>0</td>\n",
       "      <td>0.0</td>\n",
       "      <td>0.0</td>\n",
       "      <td>1329476.0</td>\n",
       "      <td>0.0</td>\n",
       "      <td>0.0</td>\n",
       "      <td>323837.0</td>\n",
       "      <td>0.0</td>\n",
       "      <td>0</td>\n",
       "    </tr>\n",
       "    <tr>\n",
       "      <th>109</th>\n",
       "      <td>NaN</td>\n",
       "      <td>160729_Ciliaris1_processed</td>\n",
       "      <td>0</td>\n",
       "      <td>0.0</td>\n",
       "      <td>0.0</td>\n",
       "      <td>0.0</td>\n",
       "      <td>0.0</td>\n",
       "      <td>564838.0</td>\n",
       "      <td>0.0</td>\n",
       "      <td>0.0</td>\n",
       "      <td>...</td>\n",
       "      <td>0.0</td>\n",
       "      <td>0</td>\n",
       "      <td>0.0</td>\n",
       "      <td>0.0</td>\n",
       "      <td>4145138.0</td>\n",
       "      <td>0.0</td>\n",
       "      <td>0.0</td>\n",
       "      <td>343872.0</td>\n",
       "      <td>0.0</td>\n",
       "      <td>0</td>\n",
       "    </tr>\n",
       "    <tr>\n",
       "      <th>110</th>\n",
       "      <td>NaN</td>\n",
       "      <td>160729_Ciliaris2_processed</td>\n",
       "      <td>0</td>\n",
       "      <td>0.0</td>\n",
       "      <td>0.0</td>\n",
       "      <td>0.0</td>\n",
       "      <td>0.0</td>\n",
       "      <td>778415.0</td>\n",
       "      <td>0.0</td>\n",
       "      <td>0.0</td>\n",
       "      <td>...</td>\n",
       "      <td>0.0</td>\n",
       "      <td>0</td>\n",
       "      <td>0.0</td>\n",
       "      <td>0.0</td>\n",
       "      <td>3307273.0</td>\n",
       "      <td>0.0</td>\n",
       "      <td>0.0</td>\n",
       "      <td>347845.0</td>\n",
       "      <td>0.0</td>\n",
       "      <td>0</td>\n",
       "    </tr>\n",
       "  </tbody>\n",
       "</table>\n",
       "<p>6 rows × 56 columns</p>\n",
       "</div>"
      ],
      "text/plain": [
       "    Names                     Species  (-)-Myrtenol  (+)-2-Bornanone  \\\n",
       "105   NaN  160725_Ciliaris4_processed             0              0.0   \n",
       "106   NaN  160729_Ciliaris3_processed             0              0.0   \n",
       "107   NaN  160725_Ciliaris2_processed             0              0.0   \n",
       "108   NaN  160725_Ciliaris3_processed             0              0.0   \n",
       "109   NaN  160729_Ciliaris1_processed             0              0.0   \n",
       "110   NaN  160729_Ciliaris2_processed             0              0.0   \n",
       "\n",
       "     1-Octanol  1-Pentadecene  2-Hexanone  3-Carene  4-ethylbenzaldehyde  \\\n",
       "105        0.0            0.0         0.0       0.0                  0.0   \n",
       "106        0.0            0.0         0.0  435209.0                  0.0   \n",
       "107        0.0            0.0         0.0       0.0                  0.0   \n",
       "108        0.0            0.0         0.0       0.0                  0.0   \n",
       "109        0.0            0.0         0.0  564838.0                  0.0   \n",
       "110        0.0            0.0         0.0  778415.0                  0.0   \n",
       "\n",
       "     5-Tetradecene, (E)-    ...     Linalool  Methyl nicotinate  \\\n",
       "105                  0.0    ...          0.0                  0   \n",
       "106                  0.0    ...          0.0                  0   \n",
       "107                  0.0    ...          0.0                  0   \n",
       "108                  0.0    ...          0.0                  0   \n",
       "109                  0.0    ...          0.0                  0   \n",
       "110                  0.0    ...          0.0                  0   \n",
       "\n",
       "     methyl salicylate  Methyleugenol    Nonanal  o-Cymene  Octacosane  \\\n",
       "105                0.0            0.0   831022.0       0.0         0.0   \n",
       "106                0.0            0.0  3805222.0  481521.0         0.0   \n",
       "107                0.0            0.0  2211582.0       0.0         0.0   \n",
       "108                0.0            0.0  1329476.0       0.0         0.0   \n",
       "109                0.0            0.0  4145138.0       0.0         0.0   \n",
       "110                0.0            0.0  3307273.0       0.0         0.0   \n",
       "\n",
       "      Octanal  Phenylethyl Alcohol  Verbenol  \n",
       "105  188018.0                  0.0         0  \n",
       "106  340742.0                  0.0         0  \n",
       "107  382837.0                  0.0         0  \n",
       "108  323837.0                  0.0         0  \n",
       "109  343872.0                  0.0         0  \n",
       "110  347845.0                  0.0         0  \n",
       "\n",
       "[6 rows x 56 columns]"
      ]
     },
     "execution_count": 105,
     "metadata": {},
     "output_type": "execute_result"
    }
   ],
   "source": [
    "data_Cil"
   ]
  },
  {
   "cell_type": "code",
   "execution_count": 5,
   "metadata": {
    "collapsed": false
   },
   "outputs": [
    {
     "data": {
      "text/plain": [
       "<mpl_toolkits.mplot3d.art3d.Text3D at 0xb4907f0>"
      ]
     },
     "execution_count": 5,
     "metadata": {},
     "output_type": "execute_result"
    },
    {
     "data": {
      "image/png": "[encoded data removed]",
      "text/plain": [
       "<matplotlib.figure.Figure at 0xad24e10>"
      ]
     },
     "metadata": {},
     "output_type": "display_data"
    }
   ],
   "source": [
    "Size = data_Obt.shape[1]\n",
    "MeanObt = np.zeros(Size)\n",
    "MeanDil = np.zeros(Size)\n",
    "MeanStri = np.zeros(Size)\n",
    "MeanCil = np.zeros(Size)\n",
    "MeanHur = np.zeros(Size)\n",
    "\n",
    "for i in range(1, Size-1):\n",
    "    MeanObt[i] = np.mean(data_Obt.values[:, i+1])\n",
    "    MeanDil[i] = np.mean(data_Dil.values[:, i+1])\n",
    "    MeanStri[i] = np.mean(data_Stri.values[:, i+1])\n",
    "    MeanCil[i] = np.mean(data_Cil.values[:, i+1])\n",
    "    MeanHur[i] = np.mean(data_Hur.values[:, i+1])\n",
    "\n",
    "from mpl_toolkits.mplot3d import Axes3D\n",
    "fig = plt.figure()\n",
    "plt.subplot(211)\n",
    "\n",
    "ax = Axes3D(fig)\n",
    "\n",
    "ax.plot(range(0, Size),[0]*Size, MeanObt, c = 'blue', alpha= 0.9)\n",
    "ax.plot(range(0, Size),[2]*Size, MeanStri, c = 'green', alpha = 0.8)\n",
    "ax.plot(range(0, Size),[8]*Size, MeanDil, c='orange', alpha = 0.5)\n",
    "ax.plot(range(0, Size),[6]*Size, MeanCil, c='gray', alpha = 0.6)\n",
    "ax.plot(range(0, Size),[4]*Size, MeanHur, c='purple', alpha = 0.7)\n",
    "ax.set_zlim(0, max(MeanCil))\n",
    "ax.view_init(elev=10, azim=-100)\n",
    "ax.axis('off')\n",
    "ax.text(Size+4, 0, 0, \"P. obtusata\", (1, 0, 1), color='black', fontsize=8)\n",
    "ax.text(Size+3.5, 2, 0, \"P. stricta\", (1, 0, 1), color='black', fontsize=8)\n",
    "ax.text(Size+3, 4, 0, \"P. huronensis\", (1, 0, 1), color='black', fontsize=8)\n",
    "ax.text(Size+2.5, 6, 0, \"P. ciliaris\", (1, 0, 1), color='black', fontsize=8)\n",
    "ax.text(Size+2, 8, 0, \"P. dilatata\", (1, 0, 1), color='black', fontsize=8)\n",
    "\n",
    "##WE SHOULD MEAN FIRST WITH THE DATE AND THE SAMPLE ID \n",
    "##Have to reorganise labels"
   ]
  },
  {
   "cell_type": "code",
   "execution_count": 9,
   "metadata": {
    "collapsed": false
   },
   "outputs": [
    {
     "name": "stdout",
     "output_type": "stream",
     "text": [
      "54 components come out of this decomposition\n"
     ]
    }
   ],
   "source": [
    "#data_Obt = data[data['Species'].str.contains('obt')] \n",
    "#data_Dil = data[data['Species'].str.contains('dil')] \n",
    "#data_Stri = data[data['Species'].str.contains('stri' or 'Stri')] \n",
    "#data_Cil = data[data['Species'].str.contains('Cil')] \n",
    "#data_Hur = data[data['Species'].str.contains('hur')]\n",
    "\n",
    "Cil = np.repeat(1, data_Cil.shape[0])\n",
    "Dil = np.repeat(2, data_Dil.shape[0])\n",
    "Str = np.repeat(3, data_Stri.shape[0])\n",
    "Obt = np.repeat(0, data_Obt.shape[0])\n",
    "Hur = np.repeat(0, data_Hur.shape[0])\n",
    "\n",
    "Species = np.concatenate((Obt, Dil, Str, Cil, Hur))\n",
    "\n",
    "#datH = data_Hex.T\n",
    "#datO = data_Obt.T\n",
    "#datS = data_S.T\n",
    "#datSt = data_Stri.T\n",
    "#datD = data_Dil.T\n",
    "\n",
    "dataAll = np.vstack((data_Obt, data_Dil, data_Stri, data_Cil, data_Hur))\n",
    "#dataAll = np.vstack((data_Obt, data_Dil, data_Stri))\n",
    "\n",
    "\n",
    "from sklearn.decomposition import PCA\n",
    "\n",
    "pcaExp = PCA()\n",
    "pcaExp.fit(dataAll[:, 2:])\n",
    "print pcaExp.components_.shape[0],'components come out of this decomposition'#\n"
   ]
  },
  {
   "cell_type": "code",
   "execution_count": 10,
   "metadata": {
    "collapsed": false
   },
   "outputs": [
    {
     "name": "stdout",
     "output_type": "stream",
     "text": [
      "1 components are required to explain 90% of the variance in the data\n"
     ]
    },
    {
     "data": {
      "text/plain": [
       "0.9860801198874819"
      ]
     },
     "execution_count": 10,
     "metadata": {},
     "output_type": "execute_result"
    },
    {
     "data": {
      "image/png": "[encoded data removed]",
      "text/plain": [
       "<matplotlib.figure.Figure at 0xc244f98>"
      ]
     },
     "metadata": {},
     "output_type": "display_data"
    }
   ],
   "source": [
    "plt.plot(np.cumsum(pcaExp.explained_variance_ratio_))\n",
    "plt.ylabel('Cumulative variance explained')\n",
    "plt.xlabel('Principal Components')\n",
    "plt.xlim(1,83)\n",
    "\n",
    "CumSumExp = np.cumsum(pcaExp.explained_variance_ratio_)\n",
    "for i in range(0, len(CumSumExp)):\n",
    "    if CumSumExp[i] >= 0.9:\n",
    "        print i+1, 'components are required to explain 90% of the variance in the data'\n",
    "        break\n",
    "\n",
    "CumSumExp[1]"
   ]
  },
  {
   "cell_type": "code",
   "execution_count": 22,
   "metadata": {
    "collapsed": false
   },
   "outputs": [
    {
     "data": {
      "image/png": "[encoded data removed]",
      "text/plain": [
       "<matplotlib.figure.Figure at 0x10e2d6a0>"
      ]
     },
     "metadata": {},
     "output_type": "display_data"
    }
   ],
   "source": [
    "All_red = pcaExp.transform(dataAll[:, 2:])\n",
    "Species = np.concatenate((Obt, Dil, Str, Cil, Hur))\n",
    "col = ['blue',  'orange','green', 'gray', 'purple']\n",
    "i=0\n",
    "for types in set(Species):\n",
    "    plt.scatter(All_red[Species==types, 0].flatten(),\n",
    "            All_red[Species==types, 1].flatten(),\n",
    "            c=col[i], s=50)\n",
    "    i+=1\n",
    "    #plt.legend(set(Species2))\n",
    "    plt.xlabel('PCA 1')\n",
    "    plt.ylabel('PCA 2')\n",
    "    plt.xlim(-0.05*1e8, 0.15*1e8)\n",
    "    plt.ylim(-0.5*1e7, 0.2*1e7)\n",
    "    \n"
   ]
  },
  {
   "cell_type": "code",
   "execution_count": 124,
   "metadata": {
    "collapsed": false
   },
   "outputs": [],
   "source": [
    "def test_train_id(N, test_frac):\n",
    "    Samples = np.arange(0,N)\n",
    "    Fraction = test_frac*N\n",
    "    test = np.random.choice(range(0,N), round(Fraction))\n",
    "    train = np.delete(Samples, test)\n",
    "    return test, train   "
   ]
  },
  {
   "cell_type": "code",
   "execution_count": null,
   "metadata": {
    "collapsed": false
   },
   "outputs": [],
   "source": [
    "from sklearn.neighbors import KNeighborsClassifier\n",
    "Accuracy = np.zeros(100)\n",
    "for i in range(100):\n",
    "    test, train = test_train_id(48, 0.2)\n",
    "    DataTest = dataAll[test, 2:]\n",
    "    DataTrain = dataAll[train, 2:]\n",
    "    pcaExp_train = PCA()\n",
    "    pcaExp_train.fit(DataTrain)\n",
    "    Train_red = pcaExp_train.transform(DataTrain)\n",
    "    Test_red = pcaExp_train.transform(DataTest)\n",
    "    model = tree.DecisionTreeClassifier()\n",
    "    model.fit(Train_red, Species[train])\n",
    "    Predict = model.predict(Test_red)\n",
    "    Accuracy[i] = np.mean(Predict == Species[test])\n",
    "\n",
    "print 'The mean accuracy of this classifier is', \"%.2f\" % np.mean(Accuracy), 'when trying to find 3 clusters (1 per species)'"
   ]
  },
  {
   "cell_type": "code",
   "execution_count": 125,
   "metadata": {
    "collapsed": false
   },
   "outputs": [],
   "source": [
    "from sklearn.discriminant_analysis import LinearDiscriminantAnalysis\n",
    "from sklearn.svm import SVC\n",
    "from sklearn import tree\n",
    "\n",
    "def cross_val_class_accuracy(model, X, y, r, test_frac, reps):\n",
    "    Accuracy = np.zeros(reps)\n",
    "    for i in range(reps):\n",
    "        test, train = test_train_id(49, test_frac)\n",
    "        DataTest = X[test, :]\n",
    "        DataTrain = X[train, :]\n",
    "        pcaExp_train = PCA(r)\n",
    "        pcaExp_train.fit(DataTrain)\n",
    "        pcaExp_test = PCA(r)\n",
    "        pcaExp_test.fit(DataTest)\n",
    "        Train_red = pcaExp_train.transform(DataTrain)\n",
    "        Test_red = pcaExp_test.transform(DataTest)\n",
    "        mymodel = model\n",
    "        model.fit(Train_red, y[train])\n",
    "        Predict = model.predict(Test_red)\n",
    "        Accuracy[i] = np.mean(Predict == y[test])\n",
    "    cv_acc = np.mean(Accuracy)\n",
    "    return cv_acc"
   ]
  },
  {
   "cell_type": "code",
   "execution_count": null,
   "metadata": {
    "collapsed": false
   },
   "outputs": [],
   "source": [
    "\n",
    "\n",
    "#LDA5 = cross_val_class_accuracy(LinearDiscriminantAnalysis(), dataAll, Species, 4, 0.2, 200)\n",
    "#LDA20 = cross_val_class_accuracy(LinearDiscriminantAnalysis(), dataAll, Species, 4, 0.2, 200)\n",
    "#SVM20 = cross_val_class_accuracy(SVC(kernel='linear'), dataAll, Species, 4, 0.2, 200)\n",
    "#DT20 = cross_val_class_accuracy(tree.DecisionTreeClassifier(), dataAll, Species, 4, 0.2, 200) \n",
    "\n",
    "#bar(range(4), [LDA5, LDA20, SVM20, DT20])\n",
    "#plt.ylim(0,0.35)\n",
    "#plt.ylabel('Accuracy')"
   ]
  },
  {
   "cell_type": "code",
   "execution_count": null,
   "metadata": {
    "collapsed": false
   },
   "outputs": [],
   "source": [
    "LDA5"
   ]
  },
  {
   "cell_type": "code",
   "execution_count": null,
   "metadata": {
    "collapsed": false
   },
   "outputs": [],
   "source": [
    "Hex = np.repeat(1, data_Hex.shape[1])\n",
    "Dil = np.repeat(1, data_Dil.shape[1])\n",
    "S = np.repeat(1, data_S.shape[1])\n",
    "Str = np.repeat(1, data_Stri.shape[1])\n",
    "Obt = np.repeat(0, data_Obt.shape[1])\n",
    "Species2 = np.concatenate((Hex, Obt, Dil, S, Str))\n",
    "\n",
    "KNN2 = cross_val_class_accuracy(KNeighborsClassifier(2), dataAll, Species2, 16, 0.2, 200)\n",
    "LDA5 = cross_val_class_accuracy(LinearDiscriminantAnalysis(), dataAll, Species2, 4, 0.2, 200)\n",
    "LDA20 = cross_val_class_accuracy(LinearDiscriminantAnalysis(), dataAll, Species2, 4, 0.2, 200)\n",
    "SVM20 = cross_val_class_accuracy(SVC(kernel='linear'), dataAll, Species2, 4, 0.2, 200)\n",
    "DT20 = cross_val_class_accuracy(tree.DecisionTreeClassifier(), dataAll, Species2, 4, 0.2, 200) \n",
    "\n",
    "bar(range(5), [KNN2, LDA5, LDA20, SVM20, DT20])\n",
    "plt.ylim(0,0.35)\n",
    "plt.ylabel('Accuracy')"
   ]
  }
 ],
 "metadata": {
  "anaconda-cloud": {},
  "kernelspec": {
   "display_name": "Python [conda root]",
   "language": "python",
   "name": "conda-root-py"
  },
  "language_info": {
   "codemirror_mode": {
    "name": "ipython",
    "version": 2
   },
   "file_extension": ".py",
   "mimetype": "text/x-python",
   "name": "python",
   "nbconvert_exporter": "python",
   "pygments_lexer": "ipython2",
   "version": "2.7.12"
  }
 },
 "nbformat": 4,
 "nbformat_minor": 1
}
