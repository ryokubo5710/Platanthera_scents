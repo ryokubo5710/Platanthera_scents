{
 "cells": [
  {
   "cell_type": "markdown",
   "metadata": {},
   "source": [
    "Â«alphaÂ»-Pinene, Camphene, Benzaldehyde, Â«betaÂ»-Pinene, Â«betaÂ»-Myrcene, Octanal, 1-hexanol,\n",
    "Limonene, Eucalyptol, 1-octanol, Nonanal, (-)-Myrtenol, Lilac aldehyde B, Lilac aldehyde C, Lilac aldehyde D,\n",
    "Lilac alcohol B\n",
    "\n",
    "Where is 2-ethyl-1-hexanol?\n",
    "\n"
   ]
  },
  {
   "cell_type": "code",
   "execution_count": 1,
   "metadata": {
    "collapsed": true
   },
   "outputs": [],
   "source": [
    "import numpy as np\n",
    "import pandas as pd\n",
    "import matplotlib.pyplot as plt\n",
    "%matplotlib inline"
   ]
  },
  {
   "cell_type": "code",
   "execution_count": 2,
   "metadata": {
    "collapsed": true
   },
   "outputs": [],
   "source": [
    "data= pd.read_excel('OutputScriptMarie_KovatsMatchOnly70.xlsx.xlsx', sheetname ='to use for NDMS')"
   ]
  },
  {
   "cell_type": "code",
   "execution_count": 38,
   "metadata": {
    "collapsed": false
   },
   "outputs": [
    {
     "data": {
      "text/plain": [
       "<bound method DataFrame.append of      Lilac alcohol B\n",
       "0           0.000000\n",
       "1           0.000000\n",
       "2           0.000000\n",
       "3           0.000000\n",
       "4           0.000000\n",
       "5           0.000000\n",
       "6           0.000000\n",
       "7           0.000000\n",
       "8           0.000000\n",
       "9           0.000000\n",
       "10          0.000000\n",
       "11          0.000000\n",
       "12          0.000000\n",
       "13          0.000000\n",
       "14          0.000000\n",
       "15          0.000000\n",
       "16          0.000000\n",
       "17          0.035831\n",
       "18          0.000000\n",
       "19          0.000000\n",
       "20          0.000000\n",
       "21          0.000000\n",
       "22          0.000000\n",
       "23          0.000000\n",
       "24          0.000000\n",
       "25          0.000000\n",
       "26          0.000000\n",
       "27          0.000000\n",
       "28          0.000000\n",
       "29          0.000000\n",
       "..               ...\n",
       "90          0.000000\n",
       "91          0.000000\n",
       "92          0.000000\n",
       "93          0.000000\n",
       "94          0.000000\n",
       "95          0.000000\n",
       "96          0.000000\n",
       "97          0.000000\n",
       "98          0.046568\n",
       "99          0.000000\n",
       "100         0.059800\n",
       "101         0.000000\n",
       "102         0.000000\n",
       "103         0.000000\n",
       "104         0.000000\n",
       "105         0.000000\n",
       "106         0.000000\n",
       "107         0.000000\n",
       "108         0.000000\n",
       "109         0.000000\n",
       "110         0.000000\n",
       "111         0.000000\n",
       "112         0.000000\n",
       "113         0.000000\n",
       "114         0.000000\n",
       "115         0.000000\n",
       "116         0.000000\n",
       "117         0.000000\n",
       "118         0.000000\n",
       "119         0.000000\n",
       "\n",
       "[120 rows x 1 columns]>"
      ]
     },
     "execution_count": 38,
     "metadata": {},
     "output_type": "execute_result"
    }
   ],
   "source": [
    "#NORMALIZATION DATA BY SUM\n",
    "for i in range(0, data.shape[0]):\n",
    "    data.iloc[i, 2:] = data.iloc[i,2:] / sum(data.iloc[i,2:])\n",
    "\n",
    "chemicals = [\"Â«alphaÂ»-Pinene\", \"Camphene\", \"Benzaldehyde\", \"Â«betaÂ»-Pinene\", \"Â«betaÂ»-Myrcene\", \"Octanal\", \"1-hexanol\",\n",
    "\"Limonene\", \"Eucalyptol\", \"1-octanol\", \"Nonanal\", \"(-)-Myrtenol\", \"Lilac aldehyde B\", \"Lilac aldehyde C\",\"Lilac aldehyde D\",\n",
    "\"Lilac alcohol B\"]\n",
    "\n",
    "chemdata = []\n",
    "for i in range(len(chemicals)):\n",
    "    chemdata = data.filter(items=[chemicals[i]]).append\n",
    "\n",
    "chemdata\n",
    "\n",
    "#for i in range(len(chemicals)):\n",
    "    #= data.iloc[data.iloc[1,:].str.contains(chemicals[i])]\n",
    "\n"
   ]
  },
  {
   "cell_type": "code",
   "execution_count": null,
   "metadata": {
    "collapsed": true
   },
   "outputs": [],
   "source": []
  },
  {
   "cell_type": "code",
   "execution_count": null,
   "metadata": {
    "collapsed": true
   },
   "outputs": [],
   "source": []
  },
  {
   "cell_type": "code",
   "execution_count": null,
   "metadata": {
    "collapsed": true
   },
   "outputs": [],
   "source": []
  },
  {
   "cell_type": "code",
   "execution_count": null,
   "metadata": {
    "collapsed": true
   },
   "outputs": [],
   "source": []
  }
 ],
 "metadata": {
  "anaconda-cloud": {},
  "kernelspec": {
   "display_name": "Python [default]",
   "language": "python",
   "name": "python3"
  },
  "language_info": {
   "codemirror_mode": {
    "name": "ipython",
    "version": 3
   },
   "file_extension": ".py",
   "mimetype": "text/x-python",
   "name": "python",
   "nbconvert_exporter": "python",
   "pygments_lexer": "ipython3",
   "version": "3.5.2"
  }
 },
 "nbformat": 4,
 "nbformat_minor": 1
}
